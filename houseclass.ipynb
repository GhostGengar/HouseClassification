{
 "cells": [
  {
   "cell_type": "markdown",
   "metadata": {},
   "source": [
    "# Simple Housing Classification using TensorFlow\n",
    "#### Author: Tien Dinh\n",
    "\n",
    "This is a simple project that applies TensorFlow into classifying which house is good and which is bad."
   ]
  },
  {
   "cell_type": "markdown",
   "metadata": {},
   "source": [
    "Import pandas to read from data file\n",
    "\n",
    "Import TensorFlow for all the magic"
   ]
  },
  {
   "cell_type": "code",
   "execution_count": 1,
   "metadata": {
    "collapsed": true
   },
   "outputs": [],
   "source": [
    "import pandas as pd\n",
    "import tensorflow as tf"
   ]
  },
  {
   "cell_type": "markdown",
   "metadata": {},
   "source": [
    "First we use pandas' read_csv function to read from our input file\n",
    "\n",
    "Then we are going to drop all the features that we don't need such as the prices\n",
    "\n",
    "Then we choose a specific set of data to train on, we are not going to train our model on all of the given data"
   ]
  },
  {
   "cell_type": "code",
   "execution_count": 5,
   "metadata": {
    "collapsed": false
   },
   "outputs": [
    {
     "data": {
      "text/html": [
       "<div>\n",
       "<table border=\"1\" class=\"dataframe\">\n",
       "  <thead>\n",
       "    <tr style=\"text-align: right;\">\n",
       "      <th></th>\n",
       "      <th>area</th>\n",
       "      <th>bathrooms</th>\n",
       "    </tr>\n",
       "  </thead>\n",
       "  <tbody>\n",
       "    <tr>\n",
       "      <th>0</th>\n",
       "      <td>2104.0</td>\n",
       "      <td>3.0</td>\n",
       "    </tr>\n",
       "    <tr>\n",
       "      <th>1</th>\n",
       "      <td>1600.0</td>\n",
       "      <td>3.0</td>\n",
       "    </tr>\n",
       "    <tr>\n",
       "      <th>2</th>\n",
       "      <td>2400.0</td>\n",
       "      <td>3.0</td>\n",
       "    </tr>\n",
       "    <tr>\n",
       "      <th>3</th>\n",
       "      <td>1416.0</td>\n",
       "      <td>2.0</td>\n",
       "    </tr>\n",
       "    <tr>\n",
       "      <th>4</th>\n",
       "      <td>3000.0</td>\n",
       "      <td>4.0</td>\n",
       "    </tr>\n",
       "    <tr>\n",
       "      <th>5</th>\n",
       "      <td>1985.0</td>\n",
       "      <td>4.0</td>\n",
       "    </tr>\n",
       "    <tr>\n",
       "      <th>6</th>\n",
       "      <td>1534.0</td>\n",
       "      <td>3.0</td>\n",
       "    </tr>\n",
       "    <tr>\n",
       "      <th>7</th>\n",
       "      <td>1427.0</td>\n",
       "      <td>3.0</td>\n",
       "    </tr>\n",
       "    <tr>\n",
       "      <th>8</th>\n",
       "      <td>1380.0</td>\n",
       "      <td>3.0</td>\n",
       "    </tr>\n",
       "    <tr>\n",
       "      <th>9</th>\n",
       "      <td>1494.0</td>\n",
       "      <td>3.0</td>\n",
       "    </tr>\n",
       "  </tbody>\n",
       "</table>\n",
       "</div>"
      ],
      "text/plain": [
       "     area  bathrooms\n",
       "0  2104.0        3.0\n",
       "1  1600.0        3.0\n",
       "2  2400.0        3.0\n",
       "3  1416.0        2.0\n",
       "4  3000.0        4.0\n",
       "5  1985.0        4.0\n",
       "6  1534.0        3.0\n",
       "7  1427.0        3.0\n",
       "8  1380.0        3.0\n",
       "9  1494.0        3.0"
      ]
     },
     "execution_count": 5,
     "metadata": {},
     "output_type": "execute_result"
    }
   ],
   "source": [
    "dataframe = pd.read_csv('data.csv')\n",
    "dataframe = dataframe.drop(['index', 'price', 'sq_price'], axis = 1) # axis means we are dropping the whole column.\n",
    "dataframe = dataframe[0:10]\n",
    "dataframe"
   ]
  },
  {
   "cell_type": "markdown",
   "metadata": {},
   "source": [
    "Now we need to decide which house is good and which is bad\n",
    "\n",
    "We do that by adding another two column into our reduced datasets"
   ]
  },
  {
   "cell_type": "code",
   "execution_count": 6,
   "metadata": {
    "collapsed": false
   },
   "outputs": [
    {
     "data": {
      "text/html": [
       "<div>\n",
       "<table border=\"1\" class=\"dataframe\">\n",
       "  <thead>\n",
       "    <tr style=\"text-align: right;\">\n",
       "      <th></th>\n",
       "      <th>area</th>\n",
       "      <th>bathrooms</th>\n",
       "      <th>y1</th>\n",
       "      <th>y2</th>\n",
       "    </tr>\n",
       "  </thead>\n",
       "  <tbody>\n",
       "    <tr>\n",
       "      <th>0</th>\n",
       "      <td>2104.0</td>\n",
       "      <td>3.0</td>\n",
       "      <td>1</td>\n",
       "      <td>0</td>\n",
       "    </tr>\n",
       "    <tr>\n",
       "      <th>1</th>\n",
       "      <td>1600.0</td>\n",
       "      <td>3.0</td>\n",
       "      <td>1</td>\n",
       "      <td>0</td>\n",
       "    </tr>\n",
       "    <tr>\n",
       "      <th>2</th>\n",
       "      <td>2400.0</td>\n",
       "      <td>3.0</td>\n",
       "      <td>0</td>\n",
       "      <td>1</td>\n",
       "    </tr>\n",
       "    <tr>\n",
       "      <th>3</th>\n",
       "      <td>1416.0</td>\n",
       "      <td>2.0</td>\n",
       "      <td>1</td>\n",
       "      <td>0</td>\n",
       "    </tr>\n",
       "    <tr>\n",
       "      <th>4</th>\n",
       "      <td>3000.0</td>\n",
       "      <td>4.0</td>\n",
       "      <td>0</td>\n",
       "      <td>1</td>\n",
       "    </tr>\n",
       "    <tr>\n",
       "      <th>5</th>\n",
       "      <td>1985.0</td>\n",
       "      <td>4.0</td>\n",
       "      <td>1</td>\n",
       "      <td>0</td>\n",
       "    </tr>\n",
       "    <tr>\n",
       "      <th>6</th>\n",
       "      <td>1534.0</td>\n",
       "      <td>3.0</td>\n",
       "      <td>0</td>\n",
       "      <td>1</td>\n",
       "    </tr>\n",
       "    <tr>\n",
       "      <th>7</th>\n",
       "      <td>1427.0</td>\n",
       "      <td>3.0</td>\n",
       "      <td>0</td>\n",
       "      <td>1</td>\n",
       "    </tr>\n",
       "    <tr>\n",
       "      <th>8</th>\n",
       "      <td>1380.0</td>\n",
       "      <td>3.0</td>\n",
       "      <td>1</td>\n",
       "      <td>0</td>\n",
       "    </tr>\n",
       "    <tr>\n",
       "      <th>9</th>\n",
       "      <td>1494.0</td>\n",
       "      <td>3.0</td>\n",
       "      <td>1</td>\n",
       "      <td>0</td>\n",
       "    </tr>\n",
       "  </tbody>\n",
       "</table>\n",
       "</div>"
      ],
      "text/plain": [
       "     area  bathrooms  y1  y2\n",
       "0  2104.0        3.0   1   0\n",
       "1  1600.0        3.0   1   0\n",
       "2  2400.0        3.0   0   1\n",
       "3  1416.0        2.0   1   0\n",
       "4  3000.0        4.0   0   1\n",
       "5  1985.0        4.0   1   0\n",
       "6  1534.0        3.0   0   1\n",
       "7  1427.0        3.0   0   1\n",
       "8  1380.0        3.0   1   0\n",
       "9  1494.0        3.0   1   0"
      ]
     },
     "execution_count": 6,
     "metadata": {},
     "output_type": "execute_result"
    }
   ],
   "source": [
    "dataframe.loc[:, 'y1'] = [1,1,0,1,0,1,0,0,1,1]\n",
    "dataframe.loc[:, 'y2'] = dataframe['y1'] == 0\n",
    "dataframe['y2'] = dataframe['y2'].astype(int)     # converting from True and False into raw values of 0s and 1s\n",
    "dataframe"
   ]
  },
  {
   "cell_type": "markdown",
   "metadata": {},
   "source": [
    "We then convert the input and output into matrices"
   ]
  },
  {
   "cell_type": "code",
   "execution_count": 15,
   "metadata": {
    "collapsed": false
   },
   "outputs": [],
   "source": [
    "inputX = dataframe.loc[:, ['area', 'bathrooms']].as_matrix()\n",
    "inputY = dataframe.loc[:, ['y1', 'y2']].as_matrix()"
   ]
  },
  {
   "cell_type": "markdown",
   "metadata": {},
   "source": [
    "## Step 1. Creating hyperparameters\n",
    "\n",
    "Learning rate is how fast the network should learn, this should be a small value because if it is too large then the network will never be optimized.\n",
    "Learning epoch is how many times the network should learn."
   ]
  },
  {
   "cell_type": "code",
   "execution_count": 32,
   "metadata": {
    "collapsed": true
   },
   "outputs": [],
   "source": [
    "learning_rate = 0.000001\n",
    "training_epochs = 3000\n",
    "display_step = 50\n",
    "n_samples = inputY.size"
   ]
  },
  {
   "cell_type": "markdown",
   "metadata": {},
   "source": [
    "## Step 2. Creating variables\n",
    "Creating placeholders for input and output matrices, as well as initial weights and biases"
   ]
  },
  {
   "cell_type": "code",
   "execution_count": 20,
   "metadata": {
    "collapsed": true
   },
   "outputs": [],
   "source": [
    "x = tf.placeholder(tf.float32, [None, 2])\n",
    "W = tf.Variable(tf.zeros([2, 2]))\n",
    "b = tf.Variable(tf.zeros([2]))\n",
    "y_values = tf.add(tf.matmul(x, W), b)\n",
    "y = tf.nn.softmax(y_values)                  # The sigmoid function, used to normalize the values to between 0 and 1\n",
    "y_ = tf.placeholder(tf.float32, [None, 2])"
   ]
  },
  {
   "cell_type": "code",
   "execution_count": 21,
   "metadata": {
    "collapsed": true
   },
   "outputs": [],
   "source": [
    "cost = tf.reduce_sum(tf.pow((y_ - y), 2))/(2 * n_samples)                   # Calculating the error\n",
    "optimizer = tf.train.GradientDescentOptimizer(learning_rate).minimize(cost) # Using Gradient Descent to minimize error"
   ]
  },
  {
   "cell_type": "markdown",
   "metadata": {},
   "source": [
    "## Step 3. Creating and Run Session"
   ]
  },
  {
   "cell_type": "code",
   "execution_count": 22,
   "metadata": {
    "collapsed": true
   },
   "outputs": [],
   "source": [
    "init = tf.global_variables_initializer()\n",
    "sess = tf.Session()\n",
    "sess.run(init)"
   ]
  },
  {
   "cell_type": "markdown",
   "metadata": {},
   "source": [
    "## Step 4. Begin Training"
   ]
  },
  {
   "cell_type": "code",
   "execution_count": 33,
   "metadata": {
    "collapsed": false
   },
   "outputs": [
    {
     "name": "stdout",
     "output_type": "stream",
     "text": [
      "Training step: 0000 cost = 0.124016687\n",
      "Training step: 0050 cost = 0.124016583\n",
      "Training step: 0100 cost = 0.124016479\n",
      "Training step: 0150 cost = 0.124016359\n",
      "Training step: 0200 cost = 0.124016263\n",
      "Training step: 0250 cost = 0.124016151\n",
      "Training step: 0300 cost = 0.124016047\n",
      "Training step: 0350 cost = 0.124015942\n",
      "Training step: 0400 cost = 0.124015830\n",
      "Training step: 0450 cost = 0.124015734\n",
      "Training step: 0500 cost = 0.124015614\n",
      "Training step: 0550 cost = 0.124015510\n",
      "Training step: 0600 cost = 0.124015406\n",
      "Training step: 0650 cost = 0.124015287\n",
      "Training step: 0700 cost = 0.124015190\n",
      "Training step: 0750 cost = 0.124015093\n",
      "Training step: 0800 cost = 0.124014974\n",
      "Training step: 0850 cost = 0.124014877\n",
      "Training step: 0900 cost = 0.124014758\n",
      "Training step: 0950 cost = 0.124014661\n",
      "Training step: 1000 cost = 0.124014542\n",
      "Training step: 1050 cost = 0.124014452\n",
      "Training step: 1100 cost = 0.124014333\n",
      "Training step: 1150 cost = 0.124014236\n",
      "Training step: 1200 cost = 0.124014117\n",
      "Training step: 1250 cost = 0.124014020\n",
      "Training step: 1300 cost = 0.124013901\n",
      "Training step: 1350 cost = 0.124013804\n",
      "Training step: 1400 cost = 0.124013685\n",
      "Training step: 1450 cost = 0.124013588\n",
      "Training step: 1500 cost = 0.124013469\n",
      "Training step: 1550 cost = 0.124013379\n",
      "Training step: 1600 cost = 0.124013260\n",
      "Training step: 1650 cost = 0.124013163\n",
      "Training step: 1700 cost = 0.124013044\n",
      "Training step: 1750 cost = 0.124012947\n",
      "Training step: 1800 cost = 0.124012828\n",
      "Training step: 1850 cost = 0.124012731\n",
      "Training step: 1900 cost = 0.124012627\n",
      "Training step: 1950 cost = 0.124012507\n",
      "Training step: 2000 cost = 0.124012411\n",
      "Training step: 2050 cost = 0.124012306\n",
      "Training step: 2100 cost = 0.124012187\n",
      "Training step: 2150 cost = 0.124012090\n",
      "Training step: 2200 cost = 0.124011971\n",
      "Training step: 2250 cost = 0.124011874\n",
      "Training step: 2300 cost = 0.124011777\n",
      "Training step: 2350 cost = 0.124011658\n",
      "Training step: 2400 cost = 0.124011554\n",
      "Training step: 2450 cost = 0.124011442\n",
      "Training step: 2500 cost = 0.124011323\n",
      "Training step: 2550 cost = 0.124011233\n",
      "Training step: 2600 cost = 0.124011122\n",
      "Training step: 2650 cost = 0.124011025\n",
      "Training step: 2700 cost = 0.124010921\n",
      "Training step: 2750 cost = 0.124010801\n",
      "Training step: 2800 cost = 0.124010704\n",
      "Training step: 2850 cost = 0.124010585\n",
      "Training step: 2900 cost = 0.124010488\n",
      "Training step: 2950 cost = 0.124010369\n",
      "Optimization Finished!\n",
      "Training Cost: 0.12401 \n",
      "W = [[  4.45707083e-05  -4.45753431e-05]\n",
      " [  9.09442431e-04  -9.09442431e-04]] \n",
      "b = [ 0.0004512 -0.0004512]\n"
     ]
    }
   ],
   "source": [
    "for i in range(training_epochs):\n",
    "    sess.run(optimizer, feed_dict = {x: inputX, y_: inputY})\n",
    "    \n",
    "    if i % display_step == 0:\n",
    "        cc = sess.run(cost, feed_dict = {x: inputX, y_: inputY})\n",
    "        print 'Training step:', '%04d' % i, 'cost =', '{:.9f}'.format(cc)\n",
    "print 'Optimization Finished!'\n",
    "training_cost = sess.run(cost, feed_dict = {x: inputX, y_: inputY})\n",
    "print 'Training Cost:', training_cost, '\\nW =', sess.run(W), '\\nb =', sess.run(b)"
   ]
  },
  {
   "cell_type": "markdown",
   "metadata": {},
   "source": [
    "### Train the model on the data"
   ]
  },
  {
   "cell_type": "code",
   "execution_count": 34,
   "metadata": {
    "collapsed": false
   },
   "outputs": [
    {
     "data": {
      "text/plain": [
       "array([[ 0.54832923,  0.4516708 ],\n",
       "       [ 0.53717941,  0.46282056],\n",
       "       [ 0.5548557 ,  0.44514433],\n",
       "       [ 0.53264624,  0.46735376],\n",
       "       [ 0.56847113,  0.43152887],\n",
       "       [ 0.54615146,  0.45384854],\n",
       "       [ 0.53571635,  0.46428367],\n",
       "       [ 0.53334308,  0.46665695],\n",
       "       [ 0.53230011,  0.46769992],\n",
       "       [ 0.53482932,  0.46517068]], dtype=float32)"
      ]
     },
     "execution_count": 34,
     "metadata": {},
     "output_type": "execute_result"
    }
   ],
   "source": [
    "sess.run(y, feed_dict = {x: inputX})"
   ]
  },
  {
   "cell_type": "code",
   "execution_count": null,
   "metadata": {
    "collapsed": true
   },
   "outputs": [],
   "source": []
  }
 ],
 "metadata": {
  "kernelspec": {
   "display_name": "Python 2",
   "language": "python",
   "name": "python2"
  },
  "language_info": {
   "codemirror_mode": {
    "name": "ipython",
    "version": 2
   },
   "file_extension": ".py",
   "mimetype": "text/x-python",
   "name": "python",
   "nbconvert_exporter": "python",
   "pygments_lexer": "ipython2",
   "version": "2.7.13"
  }
 },
 "nbformat": 4,
 "nbformat_minor": 2
}
